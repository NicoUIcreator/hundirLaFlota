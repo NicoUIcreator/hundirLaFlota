{
 "cells": [
  {
   "cell_type": "code",
   "execution_count": 13,
   "metadata": {},
   "outputs": [],
   "source": [
    "import funciones as f\n",
    "import numpy as np\n",
    "import random\n",
    "import matplotlib.pyplot as plt\n",
    "from PIL import Image"
   ]
  },
  {
   "cell_type": "code",
   "execution_count": 22,
   "metadata": {},
   "outputs": [],
   "source": [
    "imagenInicio = Image.open(\"vamos_a_batalla.jpg\")\n",
    "\n",
    "\n",
    "\n"
   ]
  },
  {
   "cell_type": "code",
   "execution_count": 17,
   "metadata": {},
   "outputs": [
    {
     "name": "stdout",
     "output_type": "stream",
     "text": [
      "Hundiendo la Flota\n",
      "El juego acaba de iniciar, BIENVENIDO CAPITAN JACK!\n",
      "\n",
      " Hemos generado 2 tableros Aleatorios con 4 barcos para cada participante.\n",
      " El juego te ira guiando mediante Prints e Inputs!\n",
      "\n",
      " MUCHA SUERTE\n"
     ]
    }
   ],
   "source": [
    "f.presentacion()"
   ]
  },
  {
   "cell_type": "code",
   "execution_count": 120,
   "metadata": {},
   "outputs": [],
   "source": [
    "tableroUsuario= f.crear_tablero()\n",
    "tableroBot= f.crear_tablero()\n",
    "tableroAtaque= f.crear_tablero()"
   ]
  },
  {
   "cell_type": "code",
   "execution_count": 96,
   "metadata": {},
   "outputs": [
    {
     "name": "stdout",
     "output_type": "stream",
     "text": [
      "[['__' '__' '__' '__' '__' '__' '__' '__' '__' '__']\n",
      " ['__' '__' '__' '__' '__' '__' '__' '__' '__' '__']\n",
      " ['__' '__' '__' '__' '__' '__' '__' '__' '__' '__']\n",
      " ['__' '__' '__' '__' '__' '__' '__' '__' '__' '__']\n",
      " ['__' '__' '__' '__' '__' '__' '__' '__' '__' '__']\n",
      " ['__' '__' '__' '__' '__' '__' '__' '__' '__' '__']\n",
      " ['__' '__' '__' '__' '__' '__' '__' '__' '__' '__']\n",
      " ['__' '__' '__' '__' '__' '__' '__' '__' '__' '__']\n",
      " ['__' '__' '__' '__' '__' '__' '__' '__' '__' '__']\n",
      " ['__' '__' '__' '__' '__' '__' '__' '__' '__' '__']]\n"
     ]
    }
   ],
   "source": [
    "\n",
    "print(tableroUsuario)"
   ]
  },
  {
   "cell_type": "code",
   "execution_count": 7,
   "metadata": {},
   "outputs": [],
   "source": [
    "tableroUsuario[1:3,1:3]= \"--\""
   ]
  },
  {
   "cell_type": "code",
   "execution_count": 4,
   "metadata": {},
   "outputs": [
    {
     "data": {
      "text/plain": [
       "array([['__', '__', '__', '__', '__', '__', '__', '__', '__', '__'],\n",
       "       ['__', '__', '__', '__', '__', '__', '__', '__', '__', '__'],\n",
       "       ['__', '__', '__', '__', '__', '__', '__', '__', '__', '__'],\n",
       "       ['__', '__', '__', '__', '__', '__', '__', '__', '__', '__'],\n",
       "       ['__', '__', '__', '__', '__', '__', '__', '__', '__', '__'],\n",
       "       ['__', '__', '__', '__', '__', '__', '__', '__', '__', '__'],\n",
       "       ['__', '__', '__', '__', '__', '__', '__', '__', '__', '__'],\n",
       "       ['__', '__', '__', '__', '__', '__', '__', '__', '__', '__'],\n",
       "       ['__', '__', '__', '__', '__', '__', '__', '__', '__', '__'],\n",
       "       ['__', '__', '__', '__', '__', '__', '__', '__', '__', '__']],\n",
       "      dtype='<U2')"
      ]
     },
     "execution_count": 4,
     "metadata": {},
     "output_type": "execute_result"
    }
   ],
   "source": [
    "tableroUsuario"
   ]
  },
  {
   "cell_type": "code",
   "execution_count": 116,
   "metadata": {},
   "outputs": [],
   "source": [
    "def crear_barco_random(eslora):\n",
    "\n",
    "    fila_a = random.randint(0,9)\n",
    "\n",
    "    columna_a = random.randint(0,9)\n",
    "\n",
    "    orientacion = random.choice([\"S\",\"O\",\"E\",\"N\"])\n",
    "\n",
    "    barco = [(fila_a, columna_a)]\n",
    "\n",
    "    while len(barco) < eslora:\n",
    "    \n",
    "        match orientacion:\n",
    "\n",
    "            case \"O\":\n",
    "                 # columna_a = columna_a - 1\n",
    "                if columna_a - (eslora-1) >= 0:\n",
    "                    columna_a -= 1\n",
    "                else:\n",
    "                    orientacion = random.choice([\"S\",\"E\",\"N\"])\n",
    "\n",
    "\n",
    "            case \"E\":\n",
    "                \n",
    "                if columna_a + (eslora-1) <= 9:\n",
    "\n",
    "                    columna_a += 1\n",
    "                else:\n",
    "\n",
    "                    orientacion = random.choice([\"O\",\"N\",\"S\"])\n",
    "                \n",
    "\n",
    "            case \"S\":\n",
    "                if fila_a + (eslora-1) <= 9:\n",
    "\n",
    "                    fila_a += 1\n",
    "                else:\n",
    "                    orientacion = random.choice([\"O\",\"E\",\"N\"])\n",
    "\n",
    "            case \"N\":\n",
    "                if fila_a - (eslora-1) >= 0:\n",
    "                    fila_a -= 1\n",
    "                else:\n",
    "                    orientacion = random.choice([\"S\",\"E\",\"O\"])\n",
    "\n",
    "        barco.append((fila_a, columna_a))\n",
    "\n",
    "        if barco[0] == barco[1]:\n",
    "            crear_barco_random(1)\n",
    "    \n",
    "            \n",
    "            \n",
    "    \n",
    "\n",
    "    return barco"
   ]
  },
  {
   "cell_type": "code",
   "execution_count": null,
   "metadata": {},
   "outputs": [],
   "source": [
    "tipoBarco=[4,3,2,1]\n",
    "match tipoBarco:\n",
    "        case 1:\n",
    "            flota.update({\"Optimis\":barco})\n",
    "        case 2:\n",
    "            flota.update({\"velero2\":barco})\n",
    "        case 3:\n",
    "            flota.update({\"cruce2\":barco})\n",
    "        case 4:\n",
    "            flota.update({\"yatch1\":barco})"
   ]
  },
  {
   "cell_type": "code",
   "execution_count": null,
   "metadata": {},
   "outputs": [],
   "source": [
    "flota = {\"yatch1\":[],\n",
    "          \"cruce1\": [],\n",
    "          \"cruce2\": [] ,\n",
    "          \"velero1\": [],\n",
    "          \"velero2\": [],\n",
    "          \"velero3\": [],\n",
    "          \"optimis1\":[] ,\n",
    "          \"optimis2\": [],\n",
    "          \"optimis3\": [],\n",
    "          \"optimis4\":[] }"
   ]
  },
  {
   "cell_type": "code",
   "execution_count": 28,
   "metadata": {},
   "outputs": [
    {
     "data": {
      "text/plain": [
       "([(2, 5), (2, 5)], 'O')"
      ]
     },
     "execution_count": 28,
     "metadata": {},
     "output_type": "execute_result"
    }
   ],
   "source": [
    "crear_barco_random(4)"
   ]
  },
  {
   "cell_type": "code",
   "execution_count": 127,
   "metadata": {},
   "outputs": [
    {
     "name": "stdout",
     "output_type": "stream",
     "text": [
      "[(4, 3), (4, 2), (4, 1)] O\n"
     ]
    }
   ],
   "source": [
    "crear_barco_random(3)\n"
   ]
  },
  {
   "cell_type": "code",
   "execution_count": null,
   "metadata": {},
   "outputs": [],
   "source": []
  },
  {
   "cell_type": "code",
   "execution_count": 11,
   "metadata": {},
   "outputs": [
    {
     "name": "stdout",
     "output_type": "stream",
     "text": [
      "[(7, 8)]\n",
      "S\n"
     ]
    }
   ],
   "source": [
    "fila_a = random.randint(0,9)\n",
    "\n",
    "columna_a = random.randint(0,9)\n",
    "\n",
    "orientacion = random.choice([\"S\",\"O\",\"E\",\"N\"])\n",
    "\n",
    "barco = [(fila_a, columna_a)]\n",
    "\n",
    "print(barco)\n",
    "print(orientacion)"
   ]
  },
  {
   "cell_type": "code",
   "execution_count": 12,
   "metadata": {},
   "outputs": [
    {
     "data": {
      "text/plain": [
       "1"
      ]
     },
     "execution_count": 12,
     "metadata": {},
     "output_type": "execute_result"
    }
   ],
   "source": [
    "len(barco)"
   ]
  },
  {
   "cell_type": "code",
   "execution_count": 7,
   "metadata": {},
   "outputs": [
    {
     "name": "stdout",
     "output_type": "stream",
     "text": [
      "[(7, 9), (7, 8), (7, 7), (7, 6)] O\n",
      "[(4, 7), (5, 7), (6, 7)] S\n",
      "[(1, 3), (1, 4), (1, 5)] E\n",
      "[(5, 8), (5, 9)] E\n",
      "[(7, 2), (8, 2)] S\n",
      "[(8, 8), (8, 7)] O\n",
      "[(5, 2)] N\n",
      "[(7, 1)] E\n",
      "[(2, 6)] O\n",
      "[(3, 8)] N\n"
     ]
    }
   ],
   "source": [
    "\n",
    "barcos = {\"yatch1\": crear_barco_random(4),\n",
    "          \"cruce1\": crear_barco_random(3),\n",
    "          \"cruce2\": crear_barco_random(3),\n",
    "          \"velero1\": crear_barco_random(2),\n",
    "          \"velero2\": crear_barco_random(2),\n",
    "          \"velero3\": crear_barco_random(2),\n",
    "          \"optimis1\": crear_barco_random(1),\n",
    "          \"optimis2\": crear_barco_random(1),\n",
    "          \"optimis3\": crear_barco_random(1),\n",
    "          \"optimis4\": crear_barco_random(1)}\n",
    "\n",
    "barcosUsuario=[]\n",
    "\n",
    "for key,value in barcos.items():\n",
    "    key=barcos[key]\n",
    "    barcosUsuario.append(key)\n"
   ]
  },
  {
   "cell_type": "code",
   "execution_count": 8,
   "metadata": {},
   "outputs": [
    {
     "data": {
      "text/plain": [
       "{'yatch1': ([(6, 1), (6, 1)], 'N'),\n",
       " 'cruce1': None,\n",
       " 'cruce2': None,\n",
       " 'velero1': None,\n",
       " 'velero2': None,\n",
       " 'velero3': None,\n",
       " 'optimis1': None,\n",
       " 'optimis2': None,\n",
       " 'optimis3': None,\n",
       " 'optimis4': None}"
      ]
     },
     "execution_count": 8,
     "metadata": {},
     "output_type": "execute_result"
    }
   ],
   "source": [
    "barcos"
   ]
  },
  {
   "cell_type": "code",
   "execution_count": 9,
   "metadata": {},
   "outputs": [
    {
     "data": {
      "text/plain": [
       "[([(6, 1), (6, 1)], 'N'), None, None, None, None, None, None, None, None, None]"
      ]
     },
     "execution_count": 9,
     "metadata": {},
     "output_type": "execute_result"
    }
   ],
   "source": [
    "barcosUsuario"
   ]
  },
  {
   "cell_type": "code",
   "execution_count": 174,
   "metadata": {},
   "outputs": [
    {
     "data": {
      "text/plain": [
       "[None, None, ([(4, 8), (4, 8)], 'O'), None, None, None, None, None, None, None]"
      ]
     },
     "execution_count": 174,
     "metadata": {},
     "output_type": "execute_result"
    }
   ],
   "source": [
    "barcosUsuario"
   ]
  },
  {
   "cell_type": "code",
   "execution_count": null,
   "metadata": {},
   "outputs": [],
   "source": [
    "for i in barcosUsuario:\n",
    "    \n"
   ]
  },
  {
   "cell_type": "code",
   "execution_count": 46,
   "metadata": {},
   "outputs": [],
   "source": [
    "\n",
    "barcos = []\n",
    "\n",
    "def eslora():\n",
    "    for k,v in barcos.items():\n",
    "        print(v)\n",
    "    "
   ]
  },
  {
   "cell_type": "code",
   "execution_count": 60,
   "metadata": {},
   "outputs": [],
   "source": [
    "barcos = {\"yatch\": 4,\n",
    "          \"cruce\": 3,\n",
    "          \"velero\": 2,\n",
    "          \"optimis\": 1}\n",
    "\n",
    "\n",
    "tableros= [tableroUsuario,tableroBot,tableroAtaque]\n",
    "\n",
    "def eslora():\n",
    "    eslora=[]\n",
    "    for k,v in barcos.items():\n",
    "        eslora.append(v)\n",
    "    return eslora   \n",
    " \n",
    "eslora=4\n",
    "\n",
    "def crear_barco_random(eslora):\n",
    "    fila_a = random.randint(0,9)\n",
    "    columna_a = random.randint(0,9)\n",
    "\n",
    "    orientacion = random.choice([\"S\",\"O\",\"E\",\"N\"])\n",
    "\n",
    "    barco = [(fila_a, columna_a)]\n",
    "\n",
    "    while len(barco) < len(eslora):\n",
    "        match orientacion:\n",
    "            case \"O\":\n",
    "                columna_a -= 1 # columna_a = columna_a - 1\n",
    "            case \"E\":\n",
    "                columna_a += 1\n",
    "            case \"S\":\n",
    "                fila_a += 1\n",
    "            case \"N\":\n",
    "                fila_a -= 1\n",
    "        barco.append((fila_a, columna_a))\n",
    "\n",
    "    return barco\n",
    "\n"
   ]
  },
  {
   "cell_type": "code",
   "execution_count": 57,
   "metadata": {},
   "outputs": [
    {
     "data": {
      "text/plain": [
       "[(2, 6), (2, 5), (2, 4), (2, 3)]"
      ]
     },
     "execution_count": 57,
     "metadata": {},
     "output_type": "execute_result"
    }
   ],
   "source": [
    "crear_barco_random(eslora())"
   ]
  },
  {
   "cell_type": "code",
   "execution_count": 58,
   "metadata": {},
   "outputs": [
    {
     "data": {
      "text/plain": [
       "[(9, 9), (10, 9), (11, 9), (12, 9)]"
      ]
     },
     "execution_count": 58,
     "metadata": {},
     "output_type": "execute_result"
    }
   ],
   "source": [
    "crear_barco_random(eslora())"
   ]
  },
  {
   "cell_type": "code",
   "execution_count": 59,
   "metadata": {},
   "outputs": [
    {
     "data": {
      "text/plain": [
       "[(6, 8), (6, 9), (6, 10), (6, 11)]"
      ]
     },
     "execution_count": 59,
     "metadata": {},
     "output_type": "execute_result"
    }
   ],
   "source": [
    "crear_barco_random(eslora())"
   ]
  },
  {
   "cell_type": "code",
   "execution_count": null,
   "metadata": {},
   "outputs": [],
   "source": [
    "\n",
    "\n",
    "for jugador, tableroJugador in enumerate(tableros):\n",
    "\n",
    "    for tipoBarco, tamanioBarco in barcos.items():\n",
    "\n",
    "        for _ in range(barcos[tipoBarco]):\n",
    "\n",
    "            while True:\n",
    "                # Generar coordenadas aleatorias\n",
    "                fila = np.random.randint(0, 10)\n",
    "                columna = np.random.randint(0, 10)\n",
    "                orientacion = np.random.randint(0, 2)\n"
   ]
  },
  {
   "cell_type": "code",
   "execution_count": 117,
   "metadata": {},
   "outputs": [],
   "source": [
    "barcos = {\"yatch1\": crear_barco_random(4),\n",
    "          \"cruce1\": crear_barco_random(3),\n",
    "          \"cruce2\": crear_barco_random(3),\n",
    "          \"velero1\": crear_barco_random(2),\n",
    "          \"velero2\": crear_barco_random(2),\n",
    "          \"velero3\": crear_barco_random(2),\n",
    "          \"optimis1\": crear_barco_random(1),\n",
    "          \"optimis2\": crear_barco_random(1),\n",
    "          \"optimis3\": crear_barco_random(1),\n",
    "          \"optimis4\": crear_barco_random(1)}"
   ]
  },
  {
   "cell_type": "code",
   "execution_count": 118,
   "metadata": {},
   "outputs": [
    {
     "data": {
      "text/plain": [
       "{'yatch1': [(4, 9), (5, 9), (6, 9), (7, 9)],\n",
       " 'cruce1': [(9, 8), (9, 8), (9, 7)],\n",
       " 'cruce2': [(2, 4), (2, 3), (2, 2)],\n",
       " 'velero1': [(4, 7), (4, 6)],\n",
       " 'velero2': [(2, 5), (1, 5)],\n",
       " 'velero3': [(8, 4), (7, 4)],\n",
       " 'optimis1': [(5, 6)],\n",
       " 'optimis2': [(2, 4)],\n",
       " 'optimis3': [(6, 0)],\n",
       " 'optimis4': [(7, 2)]}"
      ]
     },
     "execution_count": 118,
     "metadata": {},
     "output_type": "execute_result"
    }
   ],
   "source": [
    "barcos"
   ]
  },
  {
   "cell_type": "code",
   "execution_count": 121,
   "metadata": {},
   "outputs": [
    {
     "data": {
      "text/plain": [
       "array([['__', '__', '__', '__', '__', '__', '__', '__', '__', '__'],\n",
       "       ['__', '__', '__', '__', '__', '__', '__', '__', '__', '__'],\n",
       "       ['__', '__', '__', '__', '__', '__', '__', '__', '__', '__'],\n",
       "       ['__', '__', '__', '__', '__', '__', '__', '__', '__', '__'],\n",
       "       ['__', '__', '__', '__', '__', '__', '__', '__', '__', '__'],\n",
       "       ['__', '__', '__', '__', '__', '__', '__', '__', '__', '__'],\n",
       "       ['__', '__', '__', '__', '__', '__', '__', '__', '__', '__'],\n",
       "       ['__', '__', '__', '__', '__', '__', '__', '__', '__', '__'],\n",
       "       ['__', '__', '__', '__', '__', '__', '__', '__', '__', '__'],\n",
       "       ['__', '__', '__', '__', '__', '__', '__', '__', '__', '__']],\n",
       "      dtype='<U2')"
      ]
     },
     "execution_count": 121,
     "metadata": {},
     "output_type": "execute_result"
    }
   ],
   "source": [
    "tableroUsuario"
   ]
  },
  {
   "cell_type": "code",
   "execution_count": 87,
   "metadata": {},
   "outputs": [],
   "source": [
    "def colocarBarco(barco, tableroUsuario):\n",
    "    for v in barco:\n",
    "        tableroUsuario[v] = \"OO\"\n",
    "    return tableroUsuario"
   ]
  },
  {
   "cell_type": "code",
   "execution_count": 88,
   "metadata": {},
   "outputs": [],
   "source": [
    "def colocarBarcos(barcos,tableroUsuario):\n",
    "    \n",
    "    for k,v in barcos.items():\n",
    "        tableroUsuario = colocarBarco(v, tableroUsuario)\n",
    "    return tableroUsuario"
   ]
  },
  {
   "cell_type": "code",
   "execution_count": 122,
   "metadata": {},
   "outputs": [
    {
     "data": {
      "text/plain": [
       "array([['__', '__', '__', '__', '__', '__', '__', '__', '__', '__'],\n",
       "       ['__', '__', '__', '__', '__', 'OO', '__', '__', '__', '__'],\n",
       "       ['__', '__', 'OO', 'OO', 'OO', 'OO', '__', '__', '__', '__'],\n",
       "       ['__', '__', '__', '__', '__', '__', '__', '__', '__', '__'],\n",
       "       ['__', '__', '__', '__', '__', '__', 'OO', 'OO', '__', 'OO'],\n",
       "       ['__', '__', '__', '__', '__', '__', 'OO', '__', '__', 'OO'],\n",
       "       ['OO', '__', '__', '__', '__', '__', '__', '__', '__', 'OO'],\n",
       "       ['__', '__', 'OO', '__', 'OO', '__', '__', '__', '__', 'OO'],\n",
       "       ['__', '__', '__', '__', 'OO', '__', '__', '__', '__', '__'],\n",
       "       ['__', '__', '__', '__', '__', '__', '__', 'OO', 'OO', '__']],\n",
       "      dtype='<U2')"
      ]
     },
     "execution_count": 122,
     "metadata": {},
     "output_type": "execute_result"
    }
   ],
   "source": [
    "colocarBarcos(barcos,tableroUsuario)"
   ]
  }
 ],
 "metadata": {
  "kernelspec": {
   "display_name": "Python 3",
   "language": "python",
   "name": "python3"
  },
  "language_info": {
   "codemirror_mode": {
    "name": "ipython",
    "version": 3
   },
   "file_extension": ".py",
   "mimetype": "text/x-python",
   "name": "python",
   "nbconvert_exporter": "python",
   "pygments_lexer": "ipython3",
   "version": "3.11.8"
  }
 },
 "nbformat": 4,
 "nbformat_minor": 2
}
