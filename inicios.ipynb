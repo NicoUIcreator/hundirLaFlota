{
 "cells": [
  {
   "cell_type": "code",
   "execution_count": 2,
   "metadata": {},
   "outputs": [],
   "source": [
    "import funciones as f\n",
    "import numpy as np\n",
    "import random"
   ]
  },
  {
   "cell_type": "code",
   "execution_count": 22,
   "metadata": {},
   "outputs": [
    {
     "name": "stdout",
     "output_type": "stream",
     "text": [
      "Hundiendo la Flota\n",
      "El juego acaba de iniciar, BIENVENIDO CAPITAN JACK!\n",
      "\n",
      " Hemos generado 2 tableros Aleatorios con 4 barcos para cada participante.\n",
      " El juego te ira guiando mediante Prints e Inputs!\n",
      "\n",
      " MUCHA SUERTE\n"
     ]
    }
   ],
   "source": [
    "f.presentacion()"
   ]
  },
  {
   "cell_type": "code",
   "execution_count": 3,
   "metadata": {},
   "outputs": [],
   "source": [
    "tableroUsuario= f.crear_tablero()\n",
    "tableroBot= f.crear_tablero()\n",
    "tableroAtaque= f.crear_tablero()"
   ]
  },
  {
   "cell_type": "code",
   "execution_count": 4,
   "metadata": {},
   "outputs": [
    {
     "name": "stdout",
     "output_type": "stream",
     "text": [
      "[['__' '__' '__' '__' '__' '__' '__' '__' '__' '__']\n",
      " ['__' '__' '__' '__' '__' '__' '__' '__' '__' '__']\n",
      " ['__' '__' '__' '__' '__' '__' '__' '__' '__' '__']\n",
      " ['__' '__' '__' '__' '__' '__' '__' '__' '__' '__']\n",
      " ['__' '__' '__' '__' '__' '__' '__' '__' '__' '__']\n",
      " ['__' '__' '__' '__' '__' '__' '__' '__' '__' '__']\n",
      " ['__' '__' '__' '__' '__' '__' '__' '__' '__' '__']\n",
      " ['__' '__' '__' '__' '__' '__' '__' '__' '__' '__']\n",
      " ['__' '__' '__' '__' '__' '__' '__' '__' '__' '__']\n",
      " ['__' '__' '__' '__' '__' '__' '__' '__' '__' '__']]\n"
     ]
    }
   ],
   "source": [
    "\n",
    "print(tableroUsuario)"
   ]
  },
  {
   "cell_type": "code",
   "execution_count": 19,
   "metadata": {},
   "outputs": [],
   "source": [
    "def crear_barco_random(eslora):\n",
    "\n",
    "    fila_a = random.randint(0,9)\n",
    "\n",
    "    columna_a = random.randint(0,9)\n",
    "\n",
    "    orientacion = random.choice([\"S\",\"O\",\"E\",\"N\"])\n",
    "\n",
    "    barco = [(fila_a, columna_a)]\n",
    "\n",
    "    while len(barco) < eslora:\n",
    "    \n",
    "        match orientacion:\n",
    "\n",
    "            case \"O\":\n",
    "                 # columna_a = columna_a - 1\n",
    "                if columna_a - (eslora-1) >= 0:\n",
    "                    columna_a -= 1\n",
    "                else:\n",
    "                    orientacion = random.choice(\"S\",\"E\",\"N\")\n",
    "\n",
    "\n",
    "            case \"E\":\n",
    "                \n",
    "                if columna_a + (eslora-1) > 9:\n",
    "\n",
    "                    columna_a += 1\n",
    "                else:\n",
    "                    orientacion = random.choice(\"S\",\"E\",\"N\")\n",
    "                \n",
    "\n",
    "            case \"S\":\n",
    "                if columna_a + (eslora-1):\n",
    "\n",
    "                    fila_a += 1\n",
    "                else:\n",
    "                    orientacion = random.choice(\"S\",\"E\",\"N\")\n",
    "\n",
    "            case \"N\":\n",
    "                if columna_a + (eslora-1):\n",
    "                    fila_a -= 1\n",
    "                else:\n",
    "                    orientacion = random.choice(\"S\",\"E\",\"N\")\n",
    "        barco.append((fila_a, columna_a))\n",
    "\n",
    "    return print(barco)"
   ]
  },
  {
   "cell_type": "code",
   "execution_count": null,
   "metadata": {},
   "outputs": [],
   "source": []
  },
  {
   "cell_type": "code",
   "execution_count": 5,
   "metadata": {},
   "outputs": [],
   "source": [
    "barcos = {\"yatch1\": f.crear_barco_random(4),\n",
    "          \"cruce1\": f.crear_barco_random(3),\n",
    "          \"cruce2\": f.crear_barco_random(3),\n",
    "          \"velero1\": f.crear_barco_random(2),\n",
    "          \"velero2\": f.crear_barco_random(2),\n",
    "          \"velero3\": f.crear_barco_random(2),\n",
    "          \"optimis1\": f.crear_barco_random(1),\n",
    "          \"optimis2\": f.crear_barco_random(1),\n",
    "          \"optimis3\": f.crear_barco_random(1),\n",
    "          \"optimis4\": f.crear_barco_random(1)}"
   ]
  },
  {
   "cell_type": "code",
   "execution_count": 13,
   "metadata": {},
   "outputs": [],
   "source": [
    "barcosUsuario=[]\n",
    "\n",
    "for key,value in barcos.items():\n",
    "    key=barcos[key]\n",
    "    barcosUsuario.append(key)\n"
   ]
  },
  {
   "cell_type": "code",
   "execution_count": 17,
   "metadata": {},
   "outputs": [
    {
     "data": {
      "text/plain": [
       "[[(3, 2), (3, 1), (3, 0), (3, -1)],\n",
       " [(2, 6), (3, 6), (4, 6)],\n",
       " [(1, 5), (1, 6), (1, 7)],\n",
       " [(2, 4), (2, 5)],\n",
       " [(5, 9), (5, 10)],\n",
       " [(0, 0), (0, 1)],\n",
       " [(4, 3)],\n",
       " [(1, 8)],\n",
       " [(8, 4)],\n",
       " [(8, 8)]]"
      ]
     },
     "execution_count": 17,
     "metadata": {},
     "output_type": "execute_result"
    }
   ],
   "source": [
    "barcosUsuario"
   ]
  },
  {
   "cell_type": "code",
   "execution_count": null,
   "metadata": {},
   "outputs": [],
   "source": [
    "for i in barcosUsuario:\n",
    "    \n"
   ]
  },
  {
   "cell_type": "code",
   "execution_count": 46,
   "metadata": {},
   "outputs": [],
   "source": [
    "\n",
    "barcos = []\n",
    "\n",
    "def eslora():\n",
    "    for k,v in barcos.items():\n",
    "        print(v)\n",
    "    "
   ]
  },
  {
   "cell_type": "code",
   "execution_count": 60,
   "metadata": {},
   "outputs": [],
   "source": [
    "barcos = {\"yatch\": 4,\n",
    "          \"cruce\": 3,\n",
    "          \"velero\": 2,\n",
    "          \"optimis\": 1}\n",
    "\n",
    "\n",
    "tableros= [tableroUsuario,tableroBot,tableroAtaque]\n",
    "\n",
    "def eslora():\n",
    "    eslora=[]\n",
    "    for k,v in barcos.items():\n",
    "        eslora.append(v)\n",
    "    return eslora   \n",
    " \n",
    "eslora=4\n",
    "\n",
    "def crear_barco_random(eslora):\n",
    "    fila_a = random.randint(0,9)\n",
    "    columna_a = random.randint(0,9)\n",
    "\n",
    "    orientacion = random.choice([\"S\",\"O\",\"E\",\"N\"])\n",
    "\n",
    "    barco = [(fila_a, columna_a)]\n",
    "\n",
    "    while len(barco) < len(eslora):\n",
    "        match orientacion:\n",
    "            case \"O\":\n",
    "                columna_a -= 1 # columna_a = columna_a - 1\n",
    "            case \"E\":\n",
    "                columna_a += 1\n",
    "            case \"S\":\n",
    "                fila_a += 1\n",
    "            case \"N\":\n",
    "                fila_a -= 1\n",
    "        barco.append((fila_a, columna_a))\n",
    "\n",
    "    return barco\n",
    "\n"
   ]
  },
  {
   "cell_type": "code",
   "execution_count": 57,
   "metadata": {},
   "outputs": [
    {
     "data": {
      "text/plain": [
       "[(2, 6), (2, 5), (2, 4), (2, 3)]"
      ]
     },
     "execution_count": 57,
     "metadata": {},
     "output_type": "execute_result"
    }
   ],
   "source": [
    "crear_barco_random(eslora())"
   ]
  },
  {
   "cell_type": "code",
   "execution_count": 58,
   "metadata": {},
   "outputs": [
    {
     "data": {
      "text/plain": [
       "[(9, 9), (10, 9), (11, 9), (12, 9)]"
      ]
     },
     "execution_count": 58,
     "metadata": {},
     "output_type": "execute_result"
    }
   ],
   "source": [
    "crear_barco_random(eslora())"
   ]
  },
  {
   "cell_type": "code",
   "execution_count": 59,
   "metadata": {},
   "outputs": [
    {
     "data": {
      "text/plain": [
       "[(6, 8), (6, 9), (6, 10), (6, 11)]"
      ]
     },
     "execution_count": 59,
     "metadata": {},
     "output_type": "execute_result"
    }
   ],
   "source": [
    "crear_barco_random(eslora())"
   ]
  },
  {
   "cell_type": "code",
   "execution_count": null,
   "metadata": {},
   "outputs": [],
   "source": [
    "\n",
    "\n",
    "for jugador, tableroJugador in enumerate(tableros):\n",
    "\n",
    "    for tipoBarco, tamanioBarco in barcos.items():\n",
    "\n",
    "        for _ in range(barcos[tipoBarco]):\n",
    "\n",
    "            while True:\n",
    "                # Generar coordenadas aleatorias\n",
    "                fila = np.random.randint(0, 10)\n",
    "                columna = np.random.randint(0, 10)\n",
    "                orientacion = np.random.randint(0, 2)\n"
   ]
  },
  {
   "cell_type": "code",
   "execution_count": null,
   "metadata": {},
   "outputs": [],
   "source": []
  }
 ],
 "metadata": {
  "kernelspec": {
   "display_name": "Python 3",
   "language": "python",
   "name": "python3"
  },
  "language_info": {
   "codemirror_mode": {
    "name": "ipython",
    "version": 3
   },
   "file_extension": ".py",
   "mimetype": "text/x-python",
   "name": "python",
   "nbconvert_exporter": "python",
   "pygments_lexer": "ipython3",
   "version": "3.11.8"
  }
 },
 "nbformat": 4,
 "nbformat_minor": 2
}
