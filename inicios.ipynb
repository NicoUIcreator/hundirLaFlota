{
 "cells": [
  {
   "cell_type": "code",
   "execution_count": null,
   "metadata": {},
   "outputs": [],
   "source": []
  },
  {
   "cell_type": "code",
   "execution_count": 11,
   "metadata": {},
   "outputs": [],
   "source": [
    "def presentacion():\n",
    "    print(\"Hundiendo la Flota\")\n",
    "    nombre=input(\"Cual es tu nombre Capitan?\\n\\n\\n\").upper()\n",
    "    print(f\"El juego acaba de iniciar, BIENVENIDO CAPITAN {nombre}!\\n\\n Hemos generado 2 tableros Aleatorios con 4 barcos para cada participante.\\n El juego te ira guiando mediante Prints e Inputs!\\n\\n MUCHA SUERTE\")"
   ]
  },
  {
   "cell_type": "code",
   "execution_count": 12,
   "metadata": {},
   "outputs": [
    {
     "name": "stdout",
     "output_type": "stream",
     "text": [
      "Hundiendo la Flota\n",
      "El juego acaba de iniciar, BIENVENIDO CAPITAN JACK!\n",
      "\n",
      " Hemos generado 2 tableros Aleatorios con 4 barcos para cada participante.\n",
      " El juego te ira guiando mediante Prints e Inputs!\n",
      "\n",
      " MUCHA SUERTE\n"
     ]
    }
   ],
   "source": [
    "presentacion()"
   ]
  }
 ],
 "metadata": {
  "kernelspec": {
   "display_name": "Python 3",
   "language": "python",
   "name": "python3"
  },
  "language_info": {
   "codemirror_mode": {
    "name": "ipython",
    "version": 3
   },
   "file_extension": ".py",
   "mimetype": "text/x-python",
   "name": "python",
   "nbconvert_exporter": "python",
   "pygments_lexer": "ipython3",
   "version": "3.11.8"
  }
 },
 "nbformat": 4,
 "nbformat_minor": 2
}
