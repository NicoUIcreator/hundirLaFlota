{
 "cells": [
  {
   "cell_type": "code",
   "execution_count": 21,
   "metadata": {},
   "outputs": [],
   "source": [
    "import funciones as f\n",
    "import numpy as np\n",
    "import random"
   ]
  },
  {
   "cell_type": "code",
   "execution_count": 22,
   "metadata": {},
   "outputs": [
    {
     "name": "stdout",
     "output_type": "stream",
     "text": [
      "Hundiendo la Flota\n",
      "El juego acaba de iniciar, BIENVENIDO CAPITAN JACK!\n",
      "\n",
      " Hemos generado 2 tableros Aleatorios con 4 barcos para cada participante.\n",
      " El juego te ira guiando mediante Prints e Inputs!\n",
      "\n",
      " MUCHA SUERTE\n"
     ]
    }
   ],
   "source": [
    "f.presentacion()"
   ]
  },
  {
   "cell_type": "code",
   "execution_count": 28,
   "metadata": {},
   "outputs": [],
   "source": [
    "tableroUsuario= f.crear_tablero()\n",
    "tableroBot= f.crear_tablero()\n",
    "tableroAtaque= f.crear_tablero()"
   ]
  },
  {
   "cell_type": "code",
   "execution_count": 30,
   "metadata": {},
   "outputs": [
    {
     "name": "stdout",
     "output_type": "stream",
     "text": [
      "[['_' '_' '_' '_' '_' '_' '_' '_' '_' '_']\n",
      " ['_' '_' '_' '_' '_' '_' '_' '_' '_' '_']\n",
      " ['_' '_' '_' '_' '_' '_' '_' '_' '_' '_']\n",
      " ['_' '_' '_' '_' '_' '_' '_' '_' '_' '_']\n",
      " ['_' '_' '_' '_' '_' '_' '_' '_' '_' '_']\n",
      " ['_' '_' '_' '_' '_' '_' '_' '_' '_' '_']\n",
      " ['_' '_' '_' '_' '_' '_' '_' '_' '_' '_']\n",
      " ['_' '_' '_' '_' '_' '_' '_' '_' '_' '_']\n",
      " ['_' '_' '_' '_' '_' '_' '_' '_' '_' '_']\n",
      " ['_' '_' '_' '_' '_' '_' '_' '_' '_' '_']]\n"
     ]
    }
   ],
   "source": [
    "\n",
    "print(tableroUsuario)"
   ]
  },
  {
   "cell_type": "code",
   "execution_count": 16,
   "metadata": {},
   "outputs": [],
   "source": [
    "barcos = {\"yatch\": 4,\n",
    "          \"cruce\": 3,\n",
    "          \"velero\": 2,\n",
    "          \"optimis\": 1}\n",
    "\n",
    "tableros= [tableroUsuario,tableroBot,tableroAtaque]\n",
    "\n",
    "\n",
    "def crear_barco_random(eslora):\n",
    "    fila_a = random.randint(0,9)\n",
    "    columna_a = random.randint(0,9)\n",
    "\n",
    "    orientacion = random.choice([\"S\",\"O\",\"E\",\"N\"])\n",
    "\n",
    "    barco = [(fila_a, columna_a)]\n",
    "\n",
    "    while len(barco) < eslora:\n",
    "        match orientacion:\n",
    "            case \"O\":\n",
    "                columna_a -= 1 # columna_a = columna_a - 1\n",
    "            case \"E\":\n",
    "                columna_a += 1\n",
    "            case \"S\":\n",
    "                fila_a += 1\n",
    "            case \"N\":\n",
    "                fila_a -= 1\n",
    "        barco.append((fila_a, columna_a))\n",
    "\n",
    "    return barco\n",
    "\n"
   ]
  },
  {
   "cell_type": "code",
   "execution_count": null,
   "metadata": {},
   "outputs": [],
   "source": [
    "\n",
    "\n",
    "for jugador, tableroJugador in enumerate(tableros):\n",
    "\n",
    "    for tipoBarco, tamanioBarco in barcos.items():\n",
    "\n",
    "        for _ in range(barcos[tipoBarco]):\n",
    "\n",
    "            while True:\n",
    "                # Generar coordenadas aleatorias\n",
    "                fila = np.random.randint(0, 10)\n",
    "                columna = np.random.randint(0, 10)\n",
    "                orientacion = np.random.randint(0, 2)\n"
   ]
  }
 ],
 "metadata": {
  "kernelspec": {
   "display_name": "Python 3",
   "language": "python",
   "name": "python3"
  },
  "language_info": {
   "codemirror_mode": {
    "name": "ipython",
    "version": 3
   },
   "file_extension": ".py",
   "mimetype": "text/x-python",
   "name": "python",
   "nbconvert_exporter": "python",
   "pygments_lexer": "ipython3",
   "version": "3.11.8"
  }
 },
 "nbformat": 4,
 "nbformat_minor": 2
}
